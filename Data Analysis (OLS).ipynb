{
 "cells": [
  {
   "cell_type": "markdown",
   "metadata": {},
   "source": [
    "# Data Analysis\n",
    "The dataset used in this exercise is a panel of respondents surveyed between 1972 and 2012 in the United States. It contains data on a respondent’s position on an issue, their political preferences and voting behavior, as well as basic demographics and income, etc. Our main variables of interest will be deviation from partisanship, or in other words, voting against your identified party in a given election, disagreement with your identified party on abortion, and disagreement with party on gun regulation."
   ]
  },
  {
   "cell_type": "code",
   "execution_count": 306,
   "metadata": {},
   "outputs": [],
   "source": [
    "import pandas as pd\n",
    "import numpy as np\n",
    "from sklearn import preprocessing\n",
    "import matplotlib.pyplot as plt \n",
    "plt.rc(\"font\", size=14)\n",
    "from sklearn.linear_model import LogisticRegression\n",
    "from sklearn.model_selection import train_test_split\n",
    "import seaborn as sns\n",
    "sns.set(style=\"white\")\n",
    "sns.set(style=\"whitegrid\", color_codes=True)"
   ]
  },
  {
   "cell_type": "code",
   "execution_count": 307,
   "metadata": {},
   "outputs": [],
   "source": [
    "#importing dataset and replacing NaN field with zeros\n",
    "df = pd.read_excel('sec3_data.xlsx')\n",
    "df.columns = df.columns.str.rstrip()"
   ]
  },
  {
   "cell_type": "code",
   "execution_count": 308,
   "metadata": {},
   "outputs": [
    {
     "data": {
      "text/plain": [
       "array(['Vote for own party', 'Vote for opposing party'], dtype=object)"
      ]
     },
     "execution_count": 308,
     "metadata": {},
     "output_type": "execute_result"
    }
   ],
   "source": [
    "df.dropna(inplace=True)\n",
    "df['Deviation from Partisanship'].unique()"
   ]
  },
  {
   "cell_type": "code",
   "execution_count": 309,
   "metadata": {},
   "outputs": [],
   "source": [
    "df['region of interview']=np.where(df['region of interview'] =='1', 'e. nor. central', df['region of interview'])"
   ]
  },
  {
   "cell_type": "code",
   "execution_count": 310,
   "metadata": {},
   "outputs": [
    {
     "data": {
      "text/plain": [
       "array(['e. nor. central', 'middle atlantic', 'w. nor. central',\n",
       "       'south atlantic', 'e. sou. central', 'w. sou. central', 'mountain',\n",
       "       'pacific'], dtype=object)"
      ]
     },
     "execution_count": 310,
     "metadata": {},
     "output_type": "execute_result"
    }
   ],
   "source": [
    "df['region of interview'].unique()"
   ]
  },
  {
   "cell_type": "code",
   "execution_count": 311,
   "metadata": {},
   "outputs": [
    {
     "data": {
      "text/plain": [
       "dtype('int32')"
      ]
     },
     "execution_count": 311,
     "metadata": {},
     "output_type": "execute_result"
    }
   ],
   "source": [
    "df['Deviation from Partisanship'] = df['Deviation from Partisanship'].astype('str') \n",
    "le = preprocessing.LabelEncoder()\n",
    "df['Deviation from Partisanship'] = le.fit_transform(df['Deviation from Partisanship'])\n",
    "df['Deviation from Partisanship'].unique()\n",
    "df['Deviation from Partisanship'].dtypes"
   ]
  },
  {
   "cell_type": "code",
   "execution_count": 312,
   "metadata": {},
   "outputs": [
    {
     "data": {
      "image/png": "[encoded data removed]",
      "text/plain": [
       "<Figure size 432x288 with 1 Axes>"
      ]
     },
     "metadata": {},
     "output_type": "display_data"
    }
   ],
   "source": [
    "sns.countplot(x='Deviation from Partisanship', data = df, palette = 'hls')\n",
    "plt.show()"
   ]
  },
  {
   "cell_type": "code",
   "execution_count": 313,
   "metadata": {},
   "outputs": [
    {
     "name": "stdout",
     "output_type": "stream",
     "text": [
      "6942\n",
      "912\n",
      "Percentage of opposing party:  11.611917494270434\n",
      "Percentage of own party:  88.38808250572956\n"
     ]
    }
   ],
   "source": [
    "value_count=df['Deviation from Partisanship'].value_counts()\n",
    "count_opposing_party=value_count[0]\n",
    "#count_0=value_count[0] # if it is str\n",
    "count_own_party=value_count[1]\n",
    "#count_1=value_count['1'] # if it is str\n",
    "\n",
    "\n",
    "#count_own_party = len(df['Deviation from Partisanship']== 1)\n",
    "#count_opposing_party = len(df['Deviation from Partisanship'] == 0)\n",
    "\n",
    "print(count_own_party)\n",
    "print(count_opposing_party)\n",
    "\n",
    "per_own_party = count_own_party/(count_own_party + count_opposing_party)\n",
    "print(\"Percentage of opposing party: \", per_opposing_party*100)\n",
    "\n",
    "per_opposing_party = count_opposing_party/(count_own_party + count_opposing_party)\n",
    "print(\"Percentage of own party: \", per_own_party*100)\n"
   ]
  },
  {
   "cell_type": "code",
   "execution_count": 314,
   "metadata": {},
   "outputs": [],
   "source": [
    "df['Democrat'] = df['Democrat'].astype('str') \n",
    "le = preprocessing.LabelEncoder()\n",
    "df['Democrat'] = le.fit_transform(df['Democrat'])\n",
    "\n",
    "df['Disagreement with Party on Social Issues'] = df['Disagreement with Party on Social Issues'].astype('str') \n",
    "le = preprocessing.LabelEncoder()\n",
    "df['Disagreement with Party on Social Issues'] = le.fit_transform(df['Disagreement with Party on Social Issues'])\n",
    "\n",
    "df['age of respondent'] = df['age of respondent'].astype('str') \n",
    "le = preprocessing.LabelEncoder()\n",
    "df['age of respondent'] = le.fit_transform(df['age of respondent'])\n",
    "\n",
    "df['female'] = df['female'].astype('str') \n",
    "le = preprocessing.LabelEncoder()\n",
    "df['female'] = le.fit_transform(df['female'])\n",
    "\n",
    "df['family income in constant $'] = df['family income in constant $'].astype('str') \n",
    "le = preprocessing.LabelEncoder()\n",
    "df['family income in constant $'] = le.fit_transform(df['family income in constant $'])\n",
    "\n",
    "df['black'] = df['black'].astype('str') \n",
    "le = preprocessing.LabelEncoder()\n",
    "df['black'] = le.fit_transform(df['black'])\n",
    "\n",
    "df['marital status'] = df['marital status'].astype('str') \n",
    "le = preprocessing.LabelEncoder()\n",
    "df['marital status'] = le.fit_transform(df['marital status'])\n",
    "\n",
    "df['region of interview'] = df['region of interview'].astype('str') \n",
    "le = preprocessing.LabelEncoder()\n",
    "df['region of interview'] = le.fit_transform(df['region of interview'])\n",
    "\n",
    "df['gss year for this respondent'] = df['gss year for this respondent'].astype('str') \n",
    "le = preprocessing.LabelEncoder()\n",
    "df['gss year for this respondent'] = le.fit_transform(df['gss year for this respondent'])\n"
   ]
  },
  {
   "cell_type": "markdown",
   "metadata": {},
   "source": [
    "## 1 - Run an OLS regression to estimate the impact of disagreement on abortion with your identified party on deviation from partisanship, controlling for whether a respondent was a Democrat or Republican, how strongly they identified with their party, as well as year. Interpret your results. (Word limit=150 words)"
   ]
  },
  {
   "cell_type": "code",
   "execution_count": 315,
   "metadata": {},
   "outputs": [
    {
     "name": "stdout",
     "output_type": "stream",
     "text": [
      "                                            OLS Regression Results                                           \n",
      "=============================================================================================================\n",
      "Dep. Variable:     Disagreement with Party on Social Issues   R-squared (uncentered):                   0.352\n",
      "Model:                                                  OLS   Adj. R-squared (uncentered):              0.352\n",
      "Method:                                       Least Squares   F-statistic:                              1420.\n",
      "Date:                                      Sun, 10 Nov 2019   Prob (F-statistic):                        0.00\n",
      "Time:                                              18:48:13   Log-Likelihood:                         -6116.9\n",
      "No. Observations:                                      7854   AIC:                                  1.224e+04\n",
      "Df Residuals:                                          7851   BIC:                                  1.226e+04\n",
      "Df Model:                                                 3                                                  \n",
      "Covariance Type:                                  nonrobust                                                  \n",
      "================================================================================================\n",
      "                                   coef    std err          t      P>|t|      [0.025      0.975]\n",
      "------------------------------------------------------------------------------------------------\n",
      "Deviation from Partisanship      0.3777      0.012     32.284      0.000       0.355       0.401\n",
      "Democrat                        -0.0382      0.012     -3.215      0.001      -0.061      -0.015\n",
      "gss year for this respondent     0.0050      0.001      5.664      0.000       0.003       0.007\n",
      "==============================================================================\n",
      "Omnibus:                    36041.216   Durbin-Watson:                   1.842\n",
      "Prob(Omnibus):                  0.000   Jarque-Bera (JB):             1040.235\n",
      "Skew:                           0.325   Prob(JB):                    1.31e-226\n",
      "Kurtosis:                       1.340   Cond. No.                         27.0\n",
      "==============================================================================\n",
      "\n",
      "Warnings:\n",
      "[1] Standard Errors assume that the covariance matrix of the errors is correctly specified.\n"
     ]
    }
   ],
   "source": [
    "X = df[['Deviation from Partisanship','Democrat', 'gss year for this respondent']] \n",
    "y = df['Disagreement with Party on Social Issues']\n",
    "import statsmodels.api as sm\n",
    "model = sm.OLS(y.astype(float), X.astype(float))\n",
    "result=model.fit()\n",
    "print(result.summary())"
   ]
  },
  {
   "cell_type": "markdown",
   "metadata": {},
   "source": [
    "OLS regression exercise demonstrates following results:\n",
    "1.\tDisagreement with Party on Social Issues is directly related to Deviation from Partisanship. \n",
    "This indicates that people who do not agree with their party on social issues have more chances of deviating from in line with their party policies.\n",
    "2.\tDisagreement with Party on Social Issues is indirectly related to\n",
    "This indicates that people who do register with Democrat have lesser chances to deviate from party line even if they are in disagreement with the party on social issues.\n",
    "3.\tDisagreement with Party on Social Issues is directly related to Deviation from Partisanship. \n",
    "This indicates that people who do not agree with their party on social issues have very little impact of their gss year when deviating from in line with their party policies.\n"
   ]
  },
  {
   "cell_type": "markdown",
   "metadata": {},
   "source": [
    "# 2 - Rerun the specification in a), additionally controlling for some demographic variables (age, female, real income, black, marital status, and region). What can you say about the impact of the abortion variable now? Do other respondent characteristics matter in predicting deviation from partisanship? (Word limit=200 words)"
   ]
  },
  {
   "cell_type": "code",
   "execution_count": 316,
   "metadata": {},
   "outputs": [
    {
     "name": "stdout",
     "output_type": "stream",
     "text": [
      "                                            OLS Regression Results                                           \n",
      "=============================================================================================================\n",
      "Dep. Variable:     Disagreement with Party on Social Issues   R-squared (uncentered):                   0.412\n",
      "Model:                                                  OLS   Adj. R-squared (uncentered):              0.411\n",
      "Method:                                       Least Squares   F-statistic:                              610.4\n",
      "Date:                                      Sun, 10 Nov 2019   Prob (F-statistic):                        0.00\n",
      "Time:                                              18:48:14   Log-Likelihood:                         -5734.9\n",
      "No. Observations:                                      7854   AIC:                                  1.149e+04\n",
      "Df Residuals:                                          7845   BIC:                                  1.155e+04\n",
      "Df Model:                                                 9                                                  \n",
      "Covariance Type:                                  nonrobust                                                  \n",
      "================================================================================================\n",
      "                                   coef    std err          t      P>|t|      [0.025      0.975]\n",
      "------------------------------------------------------------------------------------------------\n",
      "Deviation from Partisanship      0.0860      0.015      5.636      0.000       0.056       0.116\n",
      "Democrat                        -0.0270      0.012     -2.213      0.027      -0.051      -0.003\n",
      "gss year for this respondent    -0.0037      0.001     -4.047      0.000      -0.005      -0.002\n",
      "age of respondent                0.0054      0.000     13.265      0.000       0.005       0.006\n",
      "female                           0.0345      0.011      3.096      0.002       0.013       0.056\n",
      "family income in constant $      0.0004   4.46e-05      9.287      0.000       0.000       0.001\n",
      "black                            0.1624      0.016      9.861      0.000       0.130       0.195\n",
      "marital status                   0.0340      0.004      7.968      0.000       0.026       0.042\n",
      "region of interview              0.0164      0.002      7.014      0.000       0.012       0.021\n",
      "==============================================================================\n",
      "Omnibus:                    35529.354   Durbin-Watson:                   1.932\n",
      "Prob(Omnibus):                  0.000   Jarque-Bera (JB):             1014.639\n",
      "Skew:                           0.278   Prob(JB):                    4.72e-221\n",
      "Kurtosis:                       1.329   Cond. No.                         814.\n",
      "==============================================================================\n",
      "\n",
      "Warnings:\n",
      "[1] Standard Errors assume that the covariance matrix of the errors is correctly specified.\n"
     ]
    }
   ],
   "source": [
    "X1 = df[['Deviation from Partisanship','Democrat', 'gss year for this respondent', 'age of respondent', \n",
    "         'female', 'family income in constant $', 'black', 'marital status', 'region of interview']] \n",
    "y1 = df['Disagreement with Party on Social Issues']\n",
    "import statsmodels.api as sm\n",
    "model1 = sm.OLS(y1.astype(float), X1.astype(float))\n",
    "result1=model1.fit()\n",
    "print(result1.summary())"
   ]
  },
  {
   "cell_type": "markdown",
   "metadata": {},
   "source": [
    "OLS regression exercise here demonstrates:\n",
    "1.\tDirectly related to Deviation from Partisanship, indicates people not agreeing with their party on social issues have more chances of deviating from their party policies.\n",
    "2.\tIndirectly related to being democrat, indicates people who do register with Democrat have lesser chances to deviate even if they are in disagreement with the party.\n",
    "3.\tIndirectly related to gss year of this respondent. Indicates, people who do agree with their party have very little chances to deviate even if they are in disagreement with the party.\n",
    "4.\tDirectly related to age of respondent. Indicates, people with increasing age have more chances of disagreement with party.\n",
    "5.\tDirectly related to weather the respondent is female or not. Indicates, females have higher rate of disagreement with their party.\n",
    "6.\tDirectly related to family income of respondent. Indicates, people who have higher family income have very small chances in disagreement with party.\n",
    "7.\tDirectly related to weather the respondent is black or not. Indicates, people who are black have more disagreement with their party.\n",
    "8.\tDirectly related to marital status of respondent. Indicates, married people have more chances of Disagreement with party.\n",
    "9.\tDirectly related to region of interview of respondent. Indicates, people who were interviewed in a region have similar chances of Disagreement with party.\n"
   ]
  },
  {
   "cell_type": "markdown",
   "metadata": {},
   "source": [
    "# 3 - Now repeat b) above but with this time with regional fixed effects as well. How do the results differ from b)? Explain why you think the results are different, and if this is a better/worse specification than b). (Word limit=250 words)"
   ]
  },
  {
   "cell_type": "markdown",
   "metadata": {},
   "source": [
    "# 4 - Does abortion matter more for females than for males in terms of predicting deviation from partisanship? Or more for non-blacks versus blacks? Run two separate regressions to test for this, building on the specification used in c). Comment on your findings. (Word limit=150 words)"
   ]
  },
  {
   "cell_type": "code",
   "execution_count": 317,
   "metadata": {},
   "outputs": [
    {
     "name": "stdout",
     "output_type": "stream",
     "text": [
      "                                            OLS Regression Results                                           \n",
      "=============================================================================================================\n",
      "Dep. Variable:     Disagreement with Party on Social Issues   R-squared (uncentered):                   0.405\n",
      "Model:                                                  OLS   Adj. R-squared (uncentered):              0.404\n",
      "Method:                                       Least Squares   F-statistic:                              666.4\n",
      "Date:                                      Sun, 10 Nov 2019   Prob (F-statistic):                        0.00\n",
      "Time:                                              18:48:14   Log-Likelihood:                         -5783.3\n",
      "No. Observations:                                      7854   AIC:                                  1.158e+04\n",
      "Df Residuals:                                          7846   BIC:                                  1.164e+04\n",
      "Df Model:                                                 8                                                  \n",
      "Covariance Type:                                  nonrobust                                                  \n",
      "================================================================================================\n",
      "                                   coef    std err          t      P>|t|      [0.025      0.975]\n",
      "------------------------------------------------------------------------------------------------\n",
      "Deviation from Partisanship      0.1126      0.015      7.445      0.000       0.083       0.142\n",
      "Democrat                        -0.0676      0.012     -5.852      0.000      -0.090      -0.045\n",
      "gss year for this respondent    -0.0033      0.001     -3.652      0.000      -0.005      -0.002\n",
      "age of respondent                0.0053      0.000     12.992      0.000       0.005       0.006\n",
      "female                           0.0436      0.011      3.905      0.000       0.022       0.065\n",
      "family income in constant $      0.0004   4.48e-05      9.506      0.000       0.000       0.001\n",
      "marital status                   0.0382      0.004      8.957      0.000       0.030       0.047\n",
      "region of interview              0.0180      0.002      7.681      0.000       0.013       0.023\n",
      "==============================================================================\n",
      "Omnibus:                    33938.654   Durbin-Watson:                   1.924\n",
      "Prob(Omnibus):                  0.000   Jarque-Bera (JB):             1055.293\n",
      "Skew:                           0.273   Prob(JB):                    7.02e-230\n",
      "Kurtosis:                       1.289   Cond. No.                         692.\n",
      "==============================================================================\n",
      "\n",
      "Warnings:\n",
      "[1] Standard Errors assume that the covariance matrix of the errors is correctly specified.\n"
     ]
    }
   ],
   "source": [
    "#For Male & Female\n",
    "X3 = df[['Deviation from Partisanship','Democrat', 'gss year for this respondent', 'age of respondent', \n",
    "         'female', 'family income in constant $', 'marital status', 'region of interview']] \n",
    "y3 = df['Disagreement with Party on Social Issues']\n",
    "import statsmodels.api as sm\n",
    "model3 = sm.OLS(y3.astype(float), X3.astype(float))\n",
    "result3=model3.fit()\n",
    "print(result3.summary())"
   ]
  },
  {
   "cell_type": "code",
   "execution_count": 318,
   "metadata": {},
   "outputs": [
    {
     "name": "stdout",
     "output_type": "stream",
     "text": [
      "                                            OLS Regression Results                                           \n",
      "=============================================================================================================\n",
      "Dep. Variable:     Disagreement with Party on Social Issues   R-squared (uncentered):                   0.411\n",
      "Model:                                                  OLS   Adj. R-squared (uncentered):              0.411\n",
      "Method:                                       Least Squares   F-statistic:                              684.8\n",
      "Date:                                      Sun, 10 Nov 2019   Prob (F-statistic):                        0.00\n",
      "Time:                                              18:48:14   Log-Likelihood:                         -5739.7\n",
      "No. Observations:                                      7854   AIC:                                  1.150e+04\n",
      "Df Residuals:                                          7846   BIC:                                  1.155e+04\n",
      "Df Model:                                                 8                                                  \n",
      "Covariance Type:                                  nonrobust                                                  \n",
      "================================================================================================\n",
      "                                   coef    std err          t      P>|t|      [0.025      0.975]\n",
      "------------------------------------------------------------------------------------------------\n",
      "Deviation from Partisanship      0.0914      0.015      6.026      0.000       0.062       0.121\n",
      "Democrat                        -0.0284      0.012     -2.328      0.020      -0.052      -0.004\n",
      "gss year for this respondent    -0.0034      0.001     -3.722      0.000      -0.005      -0.002\n",
      "age of respondent                0.0055      0.000     13.604      0.000       0.005       0.006\n",
      "black                            0.1666      0.016     10.148      0.000       0.134       0.199\n",
      "family income in constant $      0.0004   4.45e-05      9.541      0.000       0.000       0.001\n",
      "marital status                   0.0354      0.004      8.340      0.000       0.027       0.044\n",
      "region of interview              0.0169      0.002      7.251      0.000       0.012       0.021\n",
      "==============================================================================\n",
      "Omnibus:                    35840.230   Durbin-Watson:                   1.930\n",
      "Prob(Omnibus):                  0.000   Jarque-Bera (JB):             1007.416\n",
      "Skew:                           0.278   Prob(JB):                    1.75e-219\n",
      "Kurtosis:                       1.336   Cond. No.                         814.\n",
      "==============================================================================\n",
      "\n",
      "Warnings:\n",
      "[1] Standard Errors assume that the covariance matrix of the errors is correctly specified.\n"
     ]
    }
   ],
   "source": [
    "#For black/non-black\n",
    "X3 = df[['Deviation from Partisanship','Democrat', 'gss year for this respondent', 'age of respondent', \n",
    "         'black', 'family income in constant $', 'marital status', 'region of interview']] \n",
    "y3 = df['Disagreement with Party on Social Issues']\n",
    "import statsmodels.api as sm\n",
    "model4 = sm.OLS(y3.astype(float), X3.astype(float))\n",
    "result4=model4.fit()\n",
    "print(result4.summary())"
   ]
  },
  {
   "cell_type": "markdown",
   "metadata": {},
   "source": [
    "Our OLS regression exercise demonstrates Disagreement with Party on social issues:\n",
    "1.\tIs directly related to weather the respondent is female or not. Indicating that females have higher rate of disagreement with their party on social issues.\n",
    "2.\tIs directly related to weather the respondent is black or not. Indicating that black people have higher rate of disagreement with their party on social issues.\n"
   ]
  },
  {
   "cell_type": "markdown",
   "metadata": {},
   "source": [
    "# 5 - Export your regression output from a) to d) in a table to be included in a publication. Make sure to label and format it appropriately."
   ]
  },
  {
   "cell_type": "code",
   "execution_count": 319,
   "metadata": {},
   "outputs": [
    {
     "name": "stdout",
     "output_type": "stream",
     "text": [
      "\n",
      "=============================================================================================================================================================================================================================================================\n",
      "                             Disagreement with Party on Social Issues I Disagreement with Party on Social Issues II Disagreement with Party on Social Issues III Disagreement with Party on Social Issues IIII Disagreement with Party on Social Issues IIIII\n",
      "-------------------------------------------------------------------------------------------------------------------------------------------------------------------------------------------------------------------------------------------------------------\n",
      "Democrat                     -0.04***                                   -0.03**                                     -0.03**                                      -0.07***                                      -0.03**                                       \n",
      "                             (0.01)                                     (0.01)                                      (0.01)                                       (0.01)                                        (0.01)                                        \n",
      "Deviation from Partisanship  0.38***                                    0.09***                                     0.09***                                      0.11***                                       0.09***                                       \n",
      "                             (0.01)                                     (0.02)                                      (0.02)                                       (0.02)                                        (0.02)                                        \n",
      "age of respondent                                                       0.01***                                     0.01***                                      0.01***                                       0.01***                                       \n",
      "                                                                        (0.00)                                      (0.00)                                       (0.00)                                        (0.00)                                        \n",
      "black                                                                   0.16***                                     0.16***                                                                                    0.17***                                       \n",
      "                                                                        (0.02)                                      (0.02)                                                                                     (0.02)                                        \n",
      "family income in constant $                                             0.00***                                     0.00***                                      0.00***                                       0.00***                                       \n",
      "                                                                        (0.00)                                      (0.00)                                       (0.00)                                        (0.00)                                        \n",
      "female                                                                  0.03***                                     0.03***                                      0.04***                                                                                     \n",
      "                                                                        (0.01)                                      (0.01)                                       (0.01)                                                                                      \n",
      "gss year for this respondent 0.01***                                    -0.00***                                    -0.00***                                     -0.00***                                      -0.00***                                      \n",
      "                             (0.00)                                     (0.00)                                      (0.00)                                       (0.00)                                        (0.00)                                        \n",
      "marital status                                                          0.03***                                     0.03***                                      0.04***                                       0.04***                                       \n",
      "                                                                        (0.00)                                      (0.00)                                       (0.00)                                        (0.00)                                        \n",
      "region of interview                                                     0.02***                                     0.02***                                      0.02***                                       0.02***                                       \n",
      "                                                                        (0.00)                                      (0.00)                                       (0.00)                                        (0.00)                                        \n",
      "N                            7854                                       7854                                        7854                                         7854                                          7854                                          \n",
      "R2                           0.35                                       0.41                                        0.41                                         0.40                                          0.41                                          \n",
      "=============================================================================================================================================================================================================================================================\n",
      "Standard errors in parentheses.\n",
      "* p<.1, ** p<.05, ***p<.01\n"
     ]
    }
   ],
   "source": [
    "from statsmodels.iolib.summary2 import summary_col\n",
    "print(summary_col([result, result1, result2, result3, result4],stars=True,float_format='%0.2f',\n",
    "                 info_dict={'N':lambda x: \"{0:d}\".format(int(x.nobs)),\n",
    "                             'R2':lambda x: \"{:.2f}\".format(x.rsquared)}))"
   ]
  },
  {
   "cell_type": "markdown",
   "metadata": {},
   "source": [
    "# 6 - Think about two other factors that may affect a person’s voting behavior and their proclivity to vote against their identified party. Run another regression controlling for the additional variables you consider relevant. Interpret your results and explain your choice of variables. (Word limit=250 words)"
   ]
  },
  {
   "cell_type": "code",
   "execution_count": 320,
   "metadata": {},
   "outputs": [
    {
     "name": "stdout",
     "output_type": "stream",
     "text": [
      "                                            OLS Regression Results                                           \n",
      "=============================================================================================================\n",
      "Dep. Variable:     Disagreement with Party on Social Issues   R-squared (uncentered):                   0.415\n",
      "Model:                                                  OLS   Adj. R-squared (uncentered):              0.414\n",
      "Method:                                       Least Squares   F-statistic:                              505.1\n",
      "Date:                                      Sun, 10 Nov 2019   Prob (F-statistic):                        0.00\n",
      "Time:                                              18:48:15   Log-Likelihood:                         -5716.0\n",
      "No. Observations:                                      7854   AIC:                                  1.145e+04\n",
      "Df Residuals:                                          7843   BIC:                                  1.153e+04\n",
      "Df Model:                                                11                                                  \n",
      "Covariance Type:                                  nonrobust                                                  \n",
      "====================================================================================================\n",
      "                                       coef    std err          t      P>|t|      [0.025      0.975]\n",
      "----------------------------------------------------------------------------------------------------\n",
      "Deviation from Partisanship          0.0700      0.016      4.336      0.000       0.038       0.102\n",
      "Democrat                            -0.0142      0.013     -1.055      0.291      -0.041       0.012\n",
      "gss year for this respondent        -0.0041      0.001     -4.525      0.000      -0.006      -0.002\n",
      "age of respondent                    0.0049      0.000     11.561      0.000       0.004       0.006\n",
      "female                               0.0326      0.011      2.937      0.003       0.011       0.054\n",
      "family income in constant $          0.0004   4.53e-05      8.066      0.000       0.000       0.000\n",
      "marital status                       0.0309      0.004      7.209      0.000       0.023       0.039\n",
      "region of interview                  0.0149      0.002      6.327      0.000       0.010       0.019\n",
      "highest year of school completed     0.0084      0.001      5.769      0.000       0.006       0.011\n",
      "political party affiliation         -0.0142      0.006     -2.411      0.016      -0.026      -0.003\n",
      "black                                0.1708      0.017     10.272      0.000       0.138       0.203\n",
      "==============================================================================\n",
      "Omnibus:                    34993.092   Durbin-Watson:                   1.935\n",
      "Prob(Omnibus):                  0.000   Jarque-Bera (JB):             1027.329\n",
      "Skew:                           0.276   Prob(JB):                    8.29e-224\n",
      "Kurtosis:                       1.316   Cond. No.                         831.\n",
      "==============================================================================\n",
      "\n",
      "Warnings:\n",
      "[1] Standard Errors assume that the covariance matrix of the errors is correctly specified.\n"
     ]
    }
   ],
   "source": [
    "df['highest year of school completed'] = df['highest year of school completed'].astype('str') \n",
    "le = preprocessing.LabelEncoder()\n",
    "df['highest year of school completed'] = le.fit_transform(df['highest year of school completed'])\n",
    "\n",
    "df['political party affiliation'] = df['political party affiliation'].astype('str') \n",
    "le = preprocessing.LabelEncoder()\n",
    "df['political party affiliation'] = le.fit_transform(df['political party affiliation'])\n",
    "\n",
    "X5 = df[['Deviation from Partisanship','Democrat', 'gss year for this respondent', 'age of respondent', \n",
    "         'female', 'family income in constant $', 'marital status', 'region of interview', \n",
    "         'highest year of school completed', 'political party affiliation', 'black']] \n",
    "y5 = df['Disagreement with Party on Social Issues']\n",
    "import statsmodels.api as sm\n",
    "model5 = sm.OLS(y5, X5)\n",
    "result5=model5.fit()\n",
    "print(result5.summary())"
   ]
  },
  {
   "cell_type": "markdown",
   "metadata": {},
   "source": [
    "Our OLS regression exercise demonstrates Disagreement with Party on social issues:\n",
    "\n",
    "1.Directly related to Deviation from Partisanship. Indicates, people who do not agree with their party on social issues have more chances of deviating from their party policies.\n",
    "\n",
    "2.Indirectly related to democrat. Indicates, people who do register with Democrat have lesser chances to deviate from party even if they are in disagreement with the party.\n",
    "\n",
    "3.Indirectly related to gss year of this respondent. Indicates, people who do agree with their party have very little chances to deviate from party line even if they are in disagreement with the party.\n",
    "\n",
    "4.Directly related to age of respondent. Indicates, people with increasing age have more chances of Disagreement with party.\n",
    "\n",
    "5.Directly related to weather the respondent is female or not. Indicates, females have higher rate of disagreement with their party.\n",
    "\n",
    "6.Directly related to family income of respondent. Indicates, people who have higher family income have very small chances in disagreement with party.\n",
    "\n",
    "7.Directly related weather the respondent is black or not. Indicates, people who are black have more disagreement with their party.\n",
    "\n",
    "8.Directly related to marital status of respondent. Indicates, married people have more chances of Disagreement with party.\n",
    "\n",
    "9.Directly related to region of interview of respondent. Indicates, people who were interviewed in a region have more chances of Disagreement with party.\n",
    "\n",
    "10.Directly related to highest year of school completed. Indicates, people with higher education have better chances of Disagreement with party.\n",
    "\n",
    "11.Indirectly related to political party affiliation. Indicates, people who have political party affiliation has lesser chances of Disagreement with party.\n",
    "\n",
    "Highest year of school completed and Political party affiliation reflects on political and social awareness. Such people behavior is rational rather than emotional.\n"
   ]
  },
  {
   "cell_type": "markdown",
   "metadata": {},
   "source": [
    "# 7 - Rerun the specification used in c), but this time also include disagreement on gun laws, as well as whether the respondent has ever been threatened with a gun. What can you say about the impact of abortion now? Which of the two issue positions has a greater impact on partisan deviation? Comment on if you think this specification is better than c) in determining which issues affect deviation from partisanship, and why. (Word limit=250 words)"
   ]
  },
  {
   "cell_type": "code",
   "execution_count": 321,
   "metadata": {},
   "outputs": [
    {
     "name": "stdout",
     "output_type": "stream",
     "text": [
      "                                            OLS Regression Results                                           \n",
      "=============================================================================================================\n",
      "Dep. Variable:     Disagreement with Party on Social Issues   R-squared (uncentered):                   0.418\n",
      "Model:                                                  OLS   Adj. R-squared (uncentered):              0.417\n",
      "Method:                                       Least Squares   F-statistic:                              511.2\n",
      "Date:                                      Sun, 10 Nov 2019   Prob (F-statistic):                        0.00\n",
      "Time:                                              18:48:15   Log-Likelihood:                         -5696.7\n",
      "No. Observations:                                      7854   AIC:                                  1.142e+04\n",
      "Df Residuals:                                          7843   BIC:                                  1.149e+04\n",
      "Df Model:                                                11                                                  \n",
      "Covariance Type:                                  nonrobust                                                  \n",
      "==========================================================================================================\n",
      "                                             coef    std err          t      P>|t|      [0.025      0.975]\n",
      "----------------------------------------------------------------------------------------------------------\n",
      "Deviation from Partisanship                0.0695      0.015      4.509      0.000       0.039       0.100\n",
      "Democrat                                  -0.0744      0.014     -5.225      0.000      -0.102      -0.046\n",
      "gss year for this respondent              -0.0014      0.001     -1.417      0.157      -0.003       0.001\n",
      "age of respondent                          0.0050      0.000     12.195      0.000       0.004       0.006\n",
      "female                                     0.0244      0.011      2.184      0.029       0.002       0.046\n",
      "black                                      0.1626      0.016      9.922      0.000       0.130       0.195\n",
      "family income in constant $                0.0004   4.47e-05      8.134      0.000       0.000       0.000\n",
      "marital status                             0.0303      0.004      7.105      0.000       0.022       0.039\n",
      "region of interview                        0.0151      0.002      6.497      0.000       0.011       0.020\n",
      "Disagreement with Party on Gun Permits     0.0758      0.013      5.631      0.000       0.049       0.102\n",
      "ever threatened with gun or shot at        0.0248      0.004      6.493      0.000       0.017       0.032\n",
      "==============================================================================\n",
      "Omnibus:                    35647.656   Durbin-Watson:                   1.939\n",
      "Prob(Omnibus):                  0.000   Jarque-Bera (JB):             1010.557\n",
      "Skew:                           0.276   Prob(JB):                    3.63e-220\n",
      "Kurtosis:                       1.332   Cond. No.                         849.\n",
      "==============================================================================\n",
      "\n",
      "Warnings:\n",
      "[1] Standard Errors assume that the covariance matrix of the errors is correctly specified.\n"
     ]
    }
   ],
   "source": [
    "df['ever threatened with gun or shot at'] = df['ever threatened with gun or shot at'].astype('str') \n",
    "le = preprocessing.LabelEncoder()\n",
    "df['ever threatened with gun or shot at'] = le.fit_transform(df['ever threatened with gun or shot at'])\n",
    "\n",
    "df['Disagreement with Party on Gun Permits'] = df['Disagreement with Party on Gun Permits'].astype('str') \n",
    "le = preprocessing.LabelEncoder()\n",
    "df['Disagreement with Party on Gun Permits'] = le.fit_transform(df['Disagreement with Party on Gun Permits'])\n",
    "\n",
    "X6 = df[['Deviation from Partisanship','Democrat', 'gss year for this respondent', 'age of respondent', \n",
    "         'female', 'black', 'family income in constant $', 'marital status', 'region of interview', \n",
    "         'Disagreement with Party on Gun Permits', 'ever threatened with gun or shot at']] \n",
    "y6 = df['Disagreement with Party on Social Issues']\n",
    "import statsmodels.api as sm\n",
    "model6 = sm.OLS(y6.astype(float), X6.astype(float))\n",
    "result6=model6.fit()\n",
    "print(result6.summary())"
   ]
  },
  {
   "cell_type": "markdown",
   "metadata": {},
   "source": [
    "Our OLS regression exercise demonstrates Disagreement with Party on social issues:\n",
    "1.\tDirectly related to Deviation from Partisanship. Indicates, people who do not agree with their party on social issues have more chances of deviating from their party policies.\n",
    "2.\tIndirectly related to democrat. Indicates, people who do register with Democrat have lesser chances to deviate from party line even if they are in disagreement with the party.\n",
    "3.\tIndirectly related to gss year of this respondent. Indicates, people who do agree with their party have very little chances to deviate from party line even if they are in disagreement with the party.\n",
    "4.\tDirectly related to age of respondent. Indicates, people with increasing age have more chances of disagreement with party.\n",
    "5.\tDirectly related to weather the respondent is female or not. Indicates, females have higher rate of disagreement with their party.\n",
    "6.\tDirectly related to family income of respondent. Indicates, people who have higher family income have very small chances in disagreement with party.\n",
    "7.\tDirectly related weather the respondent is black or not. Indicates, black people have higher rate of disagreement with their party.\n",
    "8.\tDirectly related to marital status of respondent. Indicates, married people have more chances of disagreement with party.\n",
    "9.\tDirectly related to region of interview of respondent. Indicates, people who were interviewed in a region have similar chances of Disagreement with Party on Social Issues.\t\n",
    "10.\tDirectly related to disagreement with party on gun permits. Indicates, people who have disagreement with party on gun permits have higher chances of disagreement with the party.\n",
    "11.\tDirectly related to ever threatened with gun or shot at. Indicates, people who were threatened with gun have higher chances of disagreement with the party.\n",
    "\n",
    "As seen from the results, Disagreement with party on gun permits has higher impact on Disagreement with party. \n"
   ]
  }
 ],
 "metadata": {
  "kernelspec": {
   "display_name": "Python 3",
   "language": "python",
   "name": "python3"
  },
  "language_info": {
   "codemirror_mode": {
    "name": "ipython",
    "version": 3
   },
   "file_extension": ".py",
   "mimetype": "text/x-python",
   "name": "python",
   "nbconvert_exporter": "python",
   "pygments_lexer": "ipython3",
   "version": "3.7.4"
  }
 },
 "nbformat": 4,
 "nbformat_minor": 2
}
